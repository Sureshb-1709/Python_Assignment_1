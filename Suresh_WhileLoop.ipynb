{
 "cells": [
  {
   "cell_type": "markdown",
   "id": "12a21a25",
   "metadata": {},
   "source": [
    "# 1. Print multiplication table of 24 and 50 upto 10"
   ]
  },
  {
   "cell_type": "code",
   "execution_count": 7,
   "id": "0bf5e71c",
   "metadata": {},
   "outputs": [
    {
     "name": "stdout",
     "output_type": "stream",
     "text": [
      "24 * 1=24 \t 50 * 1=50\n",
      "24 * 2=48 \t 50 * 2=100\n",
      "24 * 3=72 \t 50 * 3=150\n",
      "24 * 4=96 \t 50 * 4=200\n",
      "24 * 5=120 \t 50 * 5=250\n",
      "24 * 6=144 \t 50 * 6=300\n",
      "24 * 7=168 \t 50 * 7=350\n",
      "24 * 8=192 \t 50 * 8=400\n",
      "24 * 9=216 \t 50 * 9=450\n",
      "24 * 10=240 \t 50 * 10=500\n"
     ]
    }
   ],
   "source": [
    "n=0\n",
    "while(n<10):\n",
    "    n=n+1\n",
    "    print(\"{0} * {1}={2} \\t {3} * {4}={5}\".format(24,n,24*n,50,n,50*n))\n",
    "    \n",
    "  \n",
    "    "
   ]
  },
  {
   "cell_type": "markdown",
   "id": "7f08437c",
   "metadata": {},
   "source": [
    "# 2.Write a while loop statement to print the following series 107,100,93,86....9"
   ]
  },
  {
   "cell_type": "code",
   "execution_count": 2,
   "id": "7bc3f5f6",
   "metadata": {},
   "outputs": [
    {
     "name": "stdout",
     "output_type": "stream",
     "text": [
      "107,100,93,86,79,72,65,58,51,44,37,30,23,16,9\n"
     ]
    }
   ],
   "source": [
    "k=107\n",
    "l=''\n",
    "while(k>=9):\n",
    "    if(k==107):\n",
    "        l=str(k)\n",
    "    else:\n",
    "        l=str(l)+\",\"+str(k)\n",
    "    k=k-7\n",
    "print(l)\n",
    " \n",
    "   "
   ]
  },
  {
   "cell_type": "markdown",
   "id": "2b08396b",
   "metadata": {},
   "source": [
    "# 3. Write a program to print the factorial of a number accepted from user."
   ]
  },
  {
   "cell_type": "code",
   "execution_count": 3,
   "id": "9a683d50",
   "metadata": {},
   "outputs": [
    {
     "name": "stdout",
     "output_type": "stream",
     "text": [
      "6\n",
      "Factoreial of 6 is 720\n"
     ]
    }
   ],
   "source": [
    "input1=int(input())\n",
    "n1=input1\n",
    "output=''\n",
    "if input1 < 0:\n",
    "    output= 0\n",
    "elif input1 == 0 or input1 == 1:\n",
    "    output= 1\n",
    "else:\n",
    "    fact = 1\n",
    "    while(input1 > 1):\n",
    "        fact *= input1\n",
    "        input1 -= 1\n",
    "    output=fact\n",
    "print(\"Factoreial of {0} is {1}\".format(n1,output))"
   ]
  },
  {
   "cell_type": "markdown",
   "id": "e89a712d",
   "metadata": {},
   "source": [
    "# 4.Write a program to accept 10 numbers from the user and display it’s average"
   ]
  },
  {
   "cell_type": "code",
   "execution_count": 4,
   "id": "239568a8",
   "metadata": {},
   "outputs": [
    {
     "name": "stdout",
     "output_type": "stream",
     "text": [
      "2\n",
      "3\n",
      "3\n",
      "5\n",
      "6\n",
      "8\n",
      "9\n",
      "65\n",
      "25\n",
      "54\n",
      "Average: 18.0\n"
     ]
    }
   ],
   "source": [
    "loop=1\n",
    "list1=[]\n",
    "while(loop<=10):\n",
    " input1=int(input())\n",
    " loop=loop+1\n",
    " list1.append(input1)\n",
    "\n",
    "if(len(list1)>0):\n",
    "  print(\"Average:\",sum(list1)/len(list1))"
   ]
  },
  {
   "cell_type": "markdown",
   "id": "c06789e5",
   "metadata": {},
   "source": [
    "# 5. Write a program to print the following series till n terms. 2 , 22 , 222 , 2222 _ _ _ _ _ n terms"
   ]
  },
  {
   "cell_type": "code",
   "execution_count": 5,
   "id": "4254784c",
   "metadata": {},
   "outputs": [
    {
     "name": "stdout",
     "output_type": "stream",
     "text": [
      "8\n",
      "Series are  2,22,222,2222,22222,222222,2222222,22222222,\n"
     ]
    }
   ],
   "source": [
    "input3=int(input())\n",
    "s=0\n",
    "print(\"Series are \",end=\" \")\n",
    "for i in range(0, input3):\n",
    "   s=s*10+2\n",
    "   print(s,end=\",\")\n",
    " \n",
    "print()"
   ]
  },
  {
   "cell_type": "markdown",
   "id": "e112e4f2",
   "metadata": {},
   "source": [
    "# 6.Write a Program to print all the characters in the string ‘PYTHON’ using while loop."
   ]
  },
  {
   "cell_type": "code",
   "execution_count": 6,
   "id": "94c69f7c",
   "metadata": {},
   "outputs": [
    {
     "name": "stdout",
     "output_type": "stream",
     "text": [
      "P\n",
      "Y\n",
      "T\n",
      "H\n",
      "O\n",
      "N\n"
     ]
    }
   ],
   "source": [
    "i = 0\n",
    "a = 'PYTHON'\n",
    "  \n",
    "while i < len(a): \n",
    "     \n",
    "    print( a[i])\n",
    "    i += 1"
   ]
  },
  {
   "cell_type": "code",
   "execution_count": null,
   "id": "7b8b7046",
   "metadata": {},
   "outputs": [],
   "source": []
  }
 ],
 "metadata": {
  "kernelspec": {
   "display_name": "Python 3",
   "language": "python",
   "name": "python3"
  },
  "language_info": {
   "codemirror_mode": {
    "name": "ipython",
    "version": 3
   },
   "file_extension": ".py",
   "mimetype": "text/x-python",
   "name": "python",
   "nbconvert_exporter": "python",
   "pygments_lexer": "ipython3",
   "version": "3.8.8"
  }
 },
 "nbformat": 4,
 "nbformat_minor": 5
}
