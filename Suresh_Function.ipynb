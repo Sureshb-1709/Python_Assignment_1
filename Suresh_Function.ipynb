{
 "cells": [
  {
   "cell_type": "markdown",
   "metadata": {
    "id": "VtM_1fUHQZjs"
   },
   "source": [
    "**[Slide No.69]**\n",
    "\n",
    "1. Write a function to print Hello world! ."
   ]
  },
  {
   "cell_type": "code",
   "execution_count": 1,
   "metadata": {},
   "outputs": [
    {
     "name": "stdout",
     "output_type": "stream",
     "text": [
      "Hello World !\n"
     ]
    }
   ],
   "source": [
    "def fnSayHello():\n",
    "    print(\"Hello World !\")\n",
    "    \n",
    "fnSayHello()"
   ]
  },
  {
   "cell_type": "markdown",
   "metadata": {
    "id": "AEytpP9-QZnm"
   },
   "source": [
    "**[Slide No. 69]**\n",
    "\n",
    "\n",
    "\n",
    "2. Write a function to print  Hello four times ."
   ]
  },
  {
   "cell_type": "code",
   "execution_count": 3,
   "metadata": {},
   "outputs": [
    {
     "name": "stdout",
     "output_type": "stream",
     "text": [
      "he\n",
      "he\n",
      "he\n",
      "he\n"
     ]
    }
   ],
   "source": [
    "def fnHello(str):\n",
    "    print(str)\n",
    "   \n",
    "strinput=input()\n",
    "for x in range(1,4):\n",
    "    fnHello(strinput)"
   ]
  },
  {
   "cell_type": "markdown",
   "metadata": {
    "id": "Muh15NjoQZqU"
   },
   "source": [
    "**[Slide No. 69]**\n",
    "\n",
    "3. Write a function to find the diff, add , mul of two numbers."
   ]
  },
  {
   "cell_type": "code",
   "execution_count": 20,
   "metadata": {},
   "outputs": [
    {
     "name": "stdout",
     "output_type": "stream",
     "text": [
      "5\n",
      "4\n",
      "Addition of Nember is 9\n",
      "Subtraction of Nember is 1\n",
      "Multiply of Nember is 20\n",
      "Division of Nember is 1.25\n"
     ]
    }
   ],
   "source": [
    "def MathCalulation(a,b):\n",
    "   \n",
    "     print(\"Addition of Number is\",a+b)\n",
    "     print(\"Subtraction of Number is\",a-b)\n",
    "     print(\"Multiply of Number is\",a*b)\n",
    "     print(\"Division of Number is\",a/b)\n",
    "    \n",
    "a=int(input())\n",
    "b=int(input())\n",
    "\n",
    "MathCalulation(a,b)\n",
    " \n"
   ]
  },
  {
   "cell_type": "markdown",
   "metadata": {
    "id": "YxdYhJt_QZso"
   },
   "source": [
    "**[Slide No. 69]**\n",
    "\n",
    " 4. Write the function to find the factorial of a number ."
   ]
  },
  {
   "cell_type": "code",
   "execution_count": 7,
   "metadata": {},
   "outputs": [
    {
     "name": "stdout",
     "output_type": "stream",
     "text": [
      "5\n",
      "Factorial of 5 is 120\n"
     ]
    }
   ],
   "source": [
    "def factorial(n):\n",
    "    \n",
    "    return 1 if (n==1 or n==0) else n * factorial(n - 1)\n",
    "\n",
    "num = int(input())\n",
    "print(\"Factorial of\",num,\"is\",factorial(num))\n"
   ]
  },
  {
   "cell_type": "markdown",
   "metadata": {
    "id": "DSKYQlqEQZwq"
   },
   "source": [
    "**[Slide No. 69]**\n",
    "\n",
    "5. Write a function to find the square of a number "
   ]
  },
  {
   "cell_type": "code",
   "execution_count": 8,
   "metadata": {},
   "outputs": [
    {
     "name": "stdout",
     "output_type": "stream",
     "text": [
      "5\n",
      "Square of 5 is 25\n"
     ]
    }
   ],
   "source": [
    "def sqr(n):\n",
    "    \n",
    "    return n*n\n",
    "\n",
    "num1 = int(input())\n",
    "print(\"Square of\",num,\"is\",sqr(num1))"
   ]
  },
  {
   "cell_type": "markdown",
   "metadata": {
    "id": "jUYHpxnoT9Ef"
   },
   "source": [
    "**[Slide No. 69]**\n",
    "\n",
    "6. Write the output of the program \n",
    "\n"
   ]
  },
  {
   "cell_type": "code",
   "execution_count": null,
   "metadata": {},
   "outputs": [],
   "source": []
  },
  {
   "cell_type": "markdown",
   "metadata": {
    "id": "yVUoKQsoV8d_"
   },
   "source": [
    "**[Slide No. 73]**\n",
    "\n",
    "7. Check the output of the program:\n",
    "\n",
    "myAdd = lambda x, y,z: x + y+z\n",
    "\n",
    "print (myAdd(6, 10,15))\n",
    "\n",
    "print (myAdd(7, 20,4))\n",
    "\n",
    "print (type(myAdd))"
   ]
  },
  {
   "cell_type": "code",
   "execution_count": 9,
   "metadata": {},
   "outputs": [
    {
     "name": "stdout",
     "output_type": "stream",
     "text": [
      "31\n",
      "31\n",
      "<class 'function'>\n"
     ]
    }
   ],
   "source": [
    "myAdd = lambda x, y,z: x + y+z\n",
    "\n",
    "print (myAdd(6, 10,15))\n",
    "\n",
    "print (myAdd(7, 20,4))\n",
    "\n",
    "print (type(myAdd))"
   ]
  },
  {
   "cell_type": "markdown",
   "metadata": {
    "id": "LRC5kSgo2uqt"
   },
   "source": [
    "**[Slide No. 73]**\n",
    "\n",
    "8. Write a Python program to create a lambda function that adds 15 to a given number passed in as an argument."
   ]
  },
  {
   "cell_type": "code",
   "execution_count": 17,
   "metadata": {},
   "outputs": [
    {
     "name": "stdout",
     "output_type": "stream",
     "text": [
      "2\n",
      "17\n"
     ]
    }
   ],
   "source": [
    " \n",
    "num4=int(input())\n",
    "r = lambda a : a + 15\n",
    "print(r(num4))"
   ]
  },
  {
   "cell_type": "markdown",
   "metadata": {
    "id": "KaRTkOYQ3PYc"
   },
   "source": [
    "**[Slide No. 73]**\n",
    "\n",
    "9. create a lambda function that multiplies argument x with argument y and print the result."
   ]
  },
  {
   "cell_type": "code",
   "execution_count": 18,
   "metadata": {
    "id": "AI4cpLZPd-pH"
   },
   "outputs": [
    {
     "name": "stdout",
     "output_type": "stream",
     "text": [
      "5\n",
      "4\n",
      "20\n"
     ]
    }
   ],
   "source": [
    "num5=int(input())\n",
    "num6=int(input())\n",
    "mul = lambda x, y: x * y\n",
    "print(mul(num5,num6))"
   ]
  },
  {
   "cell_type": "code",
   "execution_count": null,
   "metadata": {},
   "outputs": [],
   "source": []
  }
 ],
 "metadata": {
  "colab": {
   "collapsed_sections": [],
   "name": "Function.ipynb",
   "provenance": []
  },
  "kernelspec": {
   "display_name": "Python 3",
   "language": "python",
   "name": "python3"
  },
  "language_info": {
   "codemirror_mode": {
    "name": "ipython",
    "version": 3
   },
   "file_extension": ".py",
   "mimetype": "text/x-python",
   "name": "python",
   "nbconvert_exporter": "python",
   "pygments_lexer": "ipython3",
   "version": "3.8.8"
  }
 },
 "nbformat": 4,
 "nbformat_minor": 1
}
