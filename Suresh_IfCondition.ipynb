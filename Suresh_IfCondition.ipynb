{
 "cells": [
  {
   "cell_type": "markdown",
   "metadata": {
    "id": "R4WDgVjUKTuW"
   },
   "source": [
    "**[Slide no.52]**\n",
    "\n",
    "1. write a program to Check wheather the age entered by user is above 18 or not?"
   ]
  },
  {
   "cell_type": "code",
   "execution_count": 3,
   "metadata": {
    "colab": {
     "base_uri": "https://localhost:8080/"
    },
    "executionInfo": {
     "elapsed": 30788,
     "status": "ok",
     "timestamp": 1621065867985,
     "user": {
      "displayName": "Krishan Kumar",
      "photoUrl": "https://lh3.googleusercontent.com/a-/AOh14GhGCfRaN8eflNZnn3j4IvdJBbx3PDe5oIzIoOns=s64",
      "userId": "18202960681063087063"
     },
     "user_tz": 420
    },
    "id": "QUYDTLIKKVM3",
    "outputId": "63c09724-d9b2-4bb7-d118-991818631100"
   },
   "outputs": [
    {
     "name": "stdout",
     "output_type": "stream",
     "text": [
      "25\n",
      "You are eligible\n"
     ]
    }
   ],
   "source": [
    "a=int(input())\n",
    "if a > 18 :\n",
    "    print(\"You are eligible\")\n",
    "else:\n",
    "    print(\" Not eigible\")"
   ]
  },
  {
   "cell_type": "markdown",
   "metadata": {
    "id": "UtMMk_C_KVaA"
   },
   "source": [
    "**[Slide No. 52]**\n",
    "\n",
    "2. Write a program to check number entered is even or not ?"
   ]
  },
  {
   "cell_type": "code",
   "execution_count": 6,
   "metadata": {
    "colab": {
     "base_uri": "https://localhost:8080/"
    },
    "executionInfo": {
     "elapsed": 3991,
     "status": "ok",
     "timestamp": 1621066043501,
     "user": {
      "displayName": "Krishan Kumar",
      "photoUrl": "https://lh3.googleusercontent.com/a-/AOh14GhGCfRaN8eflNZnn3j4IvdJBbx3PDe5oIzIoOns=s64",
      "userId": "18202960681063087063"
     },
     "user_tz": 420
    },
    "id": "tdX72iluKVu5",
    "outputId": "9c523ea3-d533-4d80-85ca-975dd152c69e"
   },
   "outputs": [
    {
     "name": "stdout",
     "output_type": "stream",
     "text": [
      "10\n",
      "10 number is even\n"
     ]
    }
   ],
   "source": [
    "b=int(input())\n",
    "if b%2==0:\n",
    "    print(b,\"number is even\")\n",
    "else:\n",
    "    print(b,\"Number is odd\");"
   ]
  },
  {
   "cell_type": "markdown",
   "metadata": {
    "id": "Pf8qWzurKWDn"
   },
   "source": [
    "**[Slide No. 53]**\n",
    "\n",
    "3. Write a program to print largest number from three given numbers."
   ]
  },
  {
   "cell_type": "code",
   "execution_count": 10,
   "metadata": {
    "colab": {
     "base_uri": "https://localhost:8080/"
    },
    "executionInfo": {
     "elapsed": 9131,
     "status": "ok",
     "timestamp": 1621066337241,
     "user": {
      "displayName": "Krishan Kumar",
      "photoUrl": "https://lh3.googleusercontent.com/a-/AOh14GhGCfRaN8eflNZnn3j4IvdJBbx3PDe5oIzIoOns=s64",
      "userId": "18202960681063087063"
     },
     "user_tz": 420
    },
    "id": "RlgJ1ag0MjCy",
    "outputId": "0335a641-99e3-486b-8088-8632b1d184cd"
   },
   "outputs": [
    {
     "name": "stdout",
     "output_type": "stream",
     "text": [
      "4\n",
      "5\n",
      "6\n",
      "6  is bigger\n"
     ]
    }
   ],
   "source": [
    "num1=int(input())\n",
    "num2=int(input())\n",
    "num3=int(input())\n",
    "if (num1 > num2) and (num1 > num3) :\n",
    "    print(num1,\"is bigger\")\n",
    "elif (num2 > num3):\n",
    "   print(num2,\" is bigger\")\n",
    "else:\n",
    "  print(num3,\" is bigger\")"
   ]
  },
  {
   "cell_type": "markdown",
   "metadata": {
    "id": "lXjKH26aKWHy"
   },
   "source": [
    "**[Slide No.54]**\n",
    "\n",
    "4. Write a program to check whether the user enter number is 10,50 and 100 .\n",
    "\n"
   ]
  },
  {
   "cell_type": "code",
   "execution_count": 16,
   "metadata": {
    "colab": {
     "base_uri": "https://localhost:8080/"
    },
    "executionInfo": {
     "elapsed": 4435,
     "status": "ok",
     "timestamp": 1621066561856,
     "user": {
      "displayName": "Krishan Kumar",
      "photoUrl": "https://lh3.googleusercontent.com/a-/AOh14GhGCfRaN8eflNZnn3j4IvdJBbx3PDe5oIzIoOns=s64",
      "userId": "18202960681063087063"
     },
     "user_tz": 420
    },
    "id": "4IsUverrMj-s",
    "outputId": "b55c981a-f183-482b-d520-4142352ba998"
   },
   "outputs": [
    {
     "name": "stdout",
     "output_type": "stream",
     "text": [
      "1\n",
      "No, 1  does not exists in list\n"
     ]
    }
   ],
   "source": [
    "list1=[10,50,100]\n",
    "num4=int(input())\n",
    "# number of times element exists in list\n",
    "exist_count = list1.count(num4)\n",
    "\n",
    "if exist_count > 0:\n",
    "    print(\"Yes, \",num4,\"  exists in list\")\n",
    "else:\n",
    "    print(\"No,\",num4,\" does not exists in list\")\n",
    "    "
   ]
  },
  {
   "cell_type": "markdown",
   "metadata": {
    "id": "hzFpudkgKWhJ"
   },
   "source": [
    "**[Slide No. 54]**\n",
    "\n",
    "5. Write a program to check given number is multiple of 6 or not ."
   ]
  },
  {
   "cell_type": "code",
   "execution_count": 18,
   "metadata": {
    "id": "GcyVovq0y9Ak"
   },
   "outputs": [
    {
     "name": "stdout",
     "output_type": "stream",
     "text": [
      "15\n",
      "10  is not multiple of 6\n"
     ]
    }
   ],
   "source": [
    "c=int(input())\n",
    "result6=c/6\n",
    "if isinstance(result6, int):\n",
    " \n",
    "    print(b,\" is multiples of 6\")\n",
    "else:\n",
    "    print(b,\" is not multiple of 6\")\n"
   ]
  },
  {
   "cell_type": "markdown",
   "metadata": {
    "id": "ih7KTp-1HD9F"
   },
   "source": [
    "6.Write av program to check enter number is prime or not"
   ]
  },
  {
   "cell_type": "code",
   "execution_count": 20,
   "metadata": {
    "colab": {
     "base_uri": "https://localhost:8080/"
    },
    "executionInfo": {
     "elapsed": 1274,
     "status": "ok",
     "timestamp": 1621067116801,
     "user": {
      "displayName": "Krishan Kumar",
      "photoUrl": "https://lh3.googleusercontent.com/a-/AOh14GhGCfRaN8eflNZnn3j4IvdJBbx3PDe5oIzIoOns=s64",
      "userId": "18202960681063087063"
     },
     "user_tz": 420
    },
    "id": "XCZTMjr0HDg-",
    "outputId": "8a3f08ff-48d8-41ee-f184-75041654e251"
   },
   "outputs": [
    {
     "name": "stdout",
     "output_type": "stream",
     "text": [
      "Enter a number: 5\n",
      "5 is a prime number\n"
     ]
    }
   ],
   "source": [
    "num = int(input(\"Enter a number: \"))  \n",
    "  \n",
    "if num > 1:  \n",
    "   for i in range(2,num):  \n",
    "       if (num % i) == 0:  \n",
    "           print(num,\"is not a prime number\")  \n",
    "           print(i,\"times\",num//i,\"is\",num)  \n",
    "           break  \n",
    "   else:  \n",
    "       print(num,\"is a prime number\")  \n",
    "         \n",
    "else:  \n",
    "   print(num,\"is not a prime number\")  \n",
    "\n"
   ]
  },
  {
   "cell_type": "code",
   "execution_count": null,
   "metadata": {
    "id": "AzGl-zkySUA1"
   },
   "outputs": [],
   "source": []
  },
  {
   "cell_type": "code",
   "execution_count": null,
   "metadata": {},
   "outputs": [],
   "source": []
  }
 ],
 "metadata": {
  "colab": {
   "collapsed_sections": [],
   "name": "Conditions_solution.ipynb",
   "provenance": []
  },
  "kernelspec": {
   "display_name": "Python 3",
   "language": "python",
   "name": "python3"
  },
  "language_info": {
   "codemirror_mode": {
    "name": "ipython",
    "version": 3
   },
   "file_extension": ".py",
   "mimetype": "text/x-python",
   "name": "python",
   "nbconvert_exporter": "python",
   "pygments_lexer": "ipython3",
   "version": "3.8.8"
  }
 },
 "nbformat": 4,
 "nbformat_minor": 1
}
