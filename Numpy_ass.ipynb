{
 "cells": [
  {
   "cell_type": "markdown",
   "metadata": {
    "id": "S2q1kcBa8gJi"
   },
   "source": [
    "**[Slide No. 5]**\n",
    "\n",
    "1. Write a Program to check the version numpy installed ."
   ]
  },
  {
   "cell_type": "code",
   "execution_count": 1,
   "metadata": {
    "id": "0pzz-uEB2-jm"
   },
   "outputs": [
    {
     "data": {
      "text/plain": [
       "'1.20.1'"
      ]
     },
     "execution_count": 1,
     "metadata": {},
     "output_type": "execute_result"
    }
   ],
   "source": [
    "import numpy\n",
    "numpy.version.version"
   ]
  },
  {
   "cell_type": "markdown",
   "metadata": {
    "id": "zK4zuLVaTsgh"
   },
   "source": [
    "**[Slide No . 8]**\n",
    "\n",
    "2. Write a program to create numpy 1-D array from list."
   ]
  },
  {
   "cell_type": "code",
   "execution_count": 2,
   "metadata": {
    "id": "fjowgtmX29ky"
   },
   "outputs": [
    {
     "name": "stdout",
     "output_type": "stream",
     "text": [
      "[ 5  8 12]\n"
     ]
    }
   ],
   "source": [
    "import numpy as np\n",
    "\n",
    "#create numpy array\n",
    "a = np.array([5, 8, 12])\n",
    "print(a)"
   ]
  },
  {
   "cell_type": "markdown",
   "metadata": {
    "id": "fC_NvOu38rZ2"
   },
   "source": [
    "**[Slide No. 9]**\n",
    "\n",
    "3. Write a program to Create a 2-D array ."
   ]
  },
  {
   "cell_type": "code",
   "execution_count": 3,
   "metadata": {
    "id": "ycA0fqmr26Zn"
   },
   "outputs": [
    {
     "name": "stdout",
     "output_type": "stream",
     "text": [
      "[[1 2 3]\n",
      " [4 5 6]]\n"
     ]
    }
   ],
   "source": [
    "x = np.array([[1, 2, 3], [4, 5, 6]], np.int32)\n",
    "print(x)\n"
   ]
  },
  {
   "cell_type": "markdown",
   "metadata": {
    "id": "CkuOePHX9QDs"
   },
   "source": [
    "**[Slide No . 11]**\n",
    "\n",
    "5. a=np.array([(1,2,3,4),(3,4,5,6),(7,8,9,10)])\n",
    "\n",
    "\n",
    "\n",
    "What is the output [5 9] ?"
   ]
  },
  {
   "cell_type": "code",
   "execution_count": 4,
   "metadata": {
    "id": "WurFjZS525JP"
   },
   "outputs": [
    {
     "ename": "IndexError",
     "evalue": "index 5 is out of bounds for axis 0 with size 3",
     "output_type": "error",
     "traceback": [
      "\u001b[1;31m---------------------------------------------------------------------------\u001b[0m",
      "\u001b[1;31mIndexError\u001b[0m                                Traceback (most recent call last)",
      "\u001b[1;32m<ipython-input-4-b6db73c6afc3>\u001b[0m in \u001b[0;36m<module>\u001b[1;34m\u001b[0m\n\u001b[0;32m      1\u001b[0m \u001b[0ma\u001b[0m\u001b[1;33m=\u001b[0m\u001b[0mnp\u001b[0m\u001b[1;33m.\u001b[0m\u001b[0marray\u001b[0m\u001b[1;33m(\u001b[0m\u001b[1;33m[\u001b[0m\u001b[1;33m(\u001b[0m\u001b[1;36m1\u001b[0m\u001b[1;33m,\u001b[0m\u001b[1;36m2\u001b[0m\u001b[1;33m,\u001b[0m\u001b[1;36m3\u001b[0m\u001b[1;33m,\u001b[0m\u001b[1;36m4\u001b[0m\u001b[1;33m)\u001b[0m\u001b[1;33m,\u001b[0m\u001b[1;33m(\u001b[0m\u001b[1;36m3\u001b[0m\u001b[1;33m,\u001b[0m\u001b[1;36m4\u001b[0m\u001b[1;33m,\u001b[0m\u001b[1;36m5\u001b[0m\u001b[1;33m,\u001b[0m\u001b[1;36m6\u001b[0m\u001b[1;33m)\u001b[0m\u001b[1;33m,\u001b[0m\u001b[1;33m(\u001b[0m\u001b[1;36m7\u001b[0m\u001b[1;33m,\u001b[0m\u001b[1;36m8\u001b[0m\u001b[1;33m,\u001b[0m\u001b[1;36m9\u001b[0m\u001b[1;33m,\u001b[0m\u001b[1;36m10\u001b[0m\u001b[1;33m)\u001b[0m\u001b[1;33m]\u001b[0m\u001b[1;33m)\u001b[0m\u001b[1;33m\u001b[0m\u001b[1;33m\u001b[0m\u001b[0m\n\u001b[1;32m----> 2\u001b[1;33m \u001b[0mprint\u001b[0m\u001b[1;33m(\u001b[0m\u001b[0ma\u001b[0m\u001b[1;33m[\u001b[0m\u001b[1;36m5\u001b[0m\u001b[1;33m,\u001b[0m\u001b[1;36m9\u001b[0m\u001b[1;33m]\u001b[0m\u001b[1;33m)\u001b[0m\u001b[1;33m\u001b[0m\u001b[1;33m\u001b[0m\u001b[0m\n\u001b[0m",
      "\u001b[1;31mIndexError\u001b[0m: index 5 is out of bounds for axis 0 with size 3"
     ]
    }
   ],
   "source": [
    "a=np.array([(1,2,3,4),(3,4,5,6),(7,8,9,10)])\n",
    "print(a[5,9])"
   ]
  },
  {
   "cell_type": "markdown",
   "metadata": {
    "id": "qJFd9Aj79c48"
   },
   "source": [
    "**[Slide No.15]**\n",
    "\n",
    "6. Correct the program .\n",
    "\n",
    "import numpy as np\n",
    "\n",
    "array=np.array([1,2,3,4,5,6])\n",
    "\n",
    "print(array[-1:-5])"
   ]
  },
  {
   "cell_type": "code",
   "execution_count": 8,
   "metadata": {
    "id": "TuvlrBQH23Wo"
   },
   "outputs": [
    {
     "name": "stdout",
     "output_type": "stream",
     "text": [
      "[1]\n"
     ]
    }
   ],
   "source": [
    "array=np.array([1,2,3,4,5,6])\n",
    "\n",
    "print(array[0:1])"
   ]
  },
  {
   "cell_type": "markdown",
   "metadata": {
    "id": "ZKKUIxjX9qVE"
   },
   "source": [
    "7. a=np.array([(1,5,9),(10,12,2),(5,7,8)])\n",
    "\n",
    "\n",
    "Print the max value from first row ?\n",
    "\n",
    "print min value from the first row ?\n",
    "\n",
    "print the sum of all the element of second row ?\n",
    "\n",
    "\n"
   ]
  },
  {
   "cell_type": "code",
   "execution_count": 13,
   "metadata": {
    "id": "hPepOJE022Sg"
   },
   "outputs": [
    {
     "name": "stdout",
     "output_type": "stream",
     "text": [
      "Maximum of First row 9\n",
      "Minimum of First row 1\n"
     ]
    }
   ],
   "source": [
    "a=np.array([(1,5,9),(10,12,2),(5,7,8)])\n",
    "maxValue = numpy.amax(a[0])\n",
    "minValue = numpy.amin(a[0])\n",
    "print(\"Maximum of First row\",maxValue)\n",
    "print(\"Minimum of First row\",minValue)"
   ]
  },
  {
   "cell_type": "markdown",
   "metadata": {
    "id": "FJdOezKt-NUS"
   },
   "source": [
    "**[Slide No. 16]**\n",
    "\n",
    "\n",
    "8. Create a numpy array using a below numbers and print (1,3,5).\n",
    "\n",
    "[1,2,3,4,5,6]\n",
    "\n"
   ]
  },
  {
   "cell_type": "code",
   "execution_count": 14,
   "metadata": {
    "id": "gxNZwQ4o20sw"
   },
   "outputs": [
    {
     "name": "stdout",
     "output_type": "stream",
     "text": [
      "**The List of Odd Numbers in this oddArr Array***\n",
      "1  3  5  7  "
     ]
    }
   ],
   "source": [
    "oddArr = np.array([1,2,3,4,5,6,7,8])\n",
    "\n",
    "print(\"**The List of Odd Numbers in this oddArr Array***\")\n",
    "for i in oddArr:\n",
    "    if (i % 2 != 0):\n",
    "        print(i, end = \"  \")"
   ]
  },
  {
   "cell_type": "markdown",
   "metadata": {
    "id": "LbuqYrP_XAsI"
   },
   "source": [
    "**[Slide No. 18]**\n",
    "\n",
    "9. Create a  [3,4] numpy array and reshape it [4,3] numpy array."
   ]
  },
  {
   "cell_type": "code",
   "execution_count": 20,
   "metadata": {
    "id": "Mb5azoZH2xCw"
   },
   "outputs": [
    {
     "name": "stdout",
     "output_type": "stream",
     "text": [
      "3,4 Array \n",
      "  [[ 0  1  2  3]\n",
      " [ 4  5  6  7]\n",
      " [ 8  9 10 11]]\n",
      "\n",
      "\n",
      " [[ 0  1  2]\n",
      " [ 3  4  5]\n",
      " [ 6  7  8]\n",
      " [ 9 10 11]]\n"
     ]
    }
   ],
   "source": [
    "arr = np.arange(12).reshape(3, 4)\n",
    "\n",
    "print(\"3,4 Array \\n \",arr)\n",
    "newarr = arr.reshape(4, 3)\n",
    "\n",
    "print(\"\\n\\n\",newarr)"
   ]
  },
  {
   "cell_type": "markdown",
   "metadata": {
    "id": "GyzvTjl-XSVo"
   },
   "source": [
    "**[Slide No. 20]**\n",
    "\n",
    "10. Create two numpy array and concanate them ."
   ]
  },
  {
   "cell_type": "code",
   "execution_count": 21,
   "metadata": {
    "id": "o6cs23YV2us8"
   },
   "outputs": [
    {
     "name": "stdout",
     "output_type": "stream",
     "text": [
      "[1 2 3 4 5 6]\n"
     ]
    }
   ],
   "source": [
    "\n",
    "arr1 = np.array([1, 2, 3])\n",
    "\n",
    "arr2 = np.array([4, 5, 6])\n",
    "\n",
    "arr = np.concatenate((arr1, arr2))\n",
    "\n",
    "print(arr)"
   ]
  },
  {
   "cell_type": "markdown",
   "metadata": {
    "id": "Ryfjekb7Xlyq"
   },
   "source": [
    "**[Slide No.22]**\n",
    "\n",
    "11. Create numpy array and search a number in it ."
   ]
  },
  {
   "cell_type": "code",
   "execution_count": 22,
   "metadata": {
    "id": "qgKgB9Dg2rz9"
   },
   "outputs": [
    {
     "name": "stdout",
     "output_type": "stream",
     "text": [
      "(array([1], dtype=int64),)\n"
     ]
    }
   ],
   "source": [
    "import numpy as np\n",
    "\n",
    "arr = np.array([1, 2, 3, 4, 5, 4, 4])\n",
    "\n",
    "x = np.where(arr == 2)\n",
    "\n",
    "print(x)"
   ]
  },
  {
   "cell_type": "markdown",
   "metadata": {
    "id": "_B4fxCpkYVbw"
   },
   "source": [
    "**[Slide No.26]**\n",
    "\n",
    "12. Write a program to print 3,4 numpy array by any random number using random.randint function"
   ]
  },
  {
   "cell_type": "code",
   "execution_count": 27,
   "metadata": {
    "executionInfo": {
     "elapsed": 188,
     "status": "ok",
     "timestamp": 1621678925008,
     "user": {
      "displayName": "Decodr Academy",
      "photoUrl": "",
      "userId": "02634807145547483916"
     },
     "user_tz": 420
    },
    "id": "VwAdiVxaSEmC"
   },
   "outputs": [
    {
     "name": "stdout",
     "output_type": "stream",
     "text": [
      "[[40 43 78 88]\n",
      " [66 15 70 75]\n",
      " [19 82 71 64]]\n"
     ]
    }
   ],
   "source": [
    "array12=np.random.randint(10,90, (3,4))\n",
    "print(array12)"
   ]
  },
  {
   "cell_type": "markdown",
   "metadata": {
    "id": "DS48jubBY92B"
   },
   "source": [
    "**[Slide No. 30]**\n",
    "\n",
    "13. Write a program to add two numpy array."
   ]
  },
  {
   "cell_type": "code",
   "execution_count": 28,
   "metadata": {
    "id": "GtyiF81f2ptx"
   },
   "outputs": [
    {
     "name": "stdout",
     "output_type": "stream",
     "text": [
      "1st array :  [3 2 1]\n",
      "2nd array :  [1 2 3]\n",
      "added array :  [4 4 4]\n"
     ]
    }
   ],
   "source": [
    " \n",
    "arr1 = np.array([3, 2, 1])\n",
    "arr2 = np.array([1, 2, 3])\n",
    "   \n",
    "print (\"1st array : \", arr1)  \n",
    "print (\"2nd array : \", arr2)  \n",
    "   \n",
    "out_arr = np.add(arr1, arr2)  \n",
    "print (\"added array : \", out_arr)"
   ]
  },
  {
   "cell_type": "markdown",
   "metadata": {
    "id": "UddB37a0-mWx"
   },
   "source": [
    "14. Delete the second column from a given array and insert the following new column in its place.\n",
    "\n",
    "sampleArray = numpy.array([[34,43,73],[82,22,12],[53,94,66]]) \n",
    "\n",
    "newColumn = numpy.array([[10,10,10]])"
   ]
  },
  {
   "cell_type": "code",
   "execution_count": 36,
   "metadata": {
    "id": "a1ENVEHd2nab"
   },
   "outputs": [
    {
     "name": "stdout",
     "output_type": "stream",
     "text": [
      "[[34 73]\n",
      " [82 12]\n",
      " [53 66]]\n",
      "Array after inserting column 2 on axis 1\n",
      "[[34 10 73]\n",
      " [82 10 12]\n",
      " [53 10 66]]\n"
     ]
    }
   ],
   "source": [
    "sampleArray = np.array([[34,43,73],[82,22,12],[53,94,66]])\n",
    "sampleArray=np.delete(sampleArray, 1, 1)\n",
    "print(sampleArray)\n",
    "newColumn = np.array([[10,10,10]])\n",
    " \n",
    "\n",
    "print(\"Array after inserting column 2 on axis 1\")\n",
    "newColumn1 = numpy.insert(sampleArray , 1, newColumn, axis = 1) \n",
    "print (newColumn1)"
   ]
  },
  {
   "cell_type": "code",
   "execution_count": null,
   "metadata": {},
   "outputs": [],
   "source": []
  }
 ],
 "metadata": {
  "colab": {
   "collapsed_sections": [],
   "name": "Numpy_ass.ipynb",
   "provenance": []
  },
  "kernelspec": {
   "display_name": "Python 3",
   "language": "python",
   "name": "python3"
  },
  "language_info": {
   "codemirror_mode": {
    "name": "ipython",
    "version": 3
   },
   "file_extension": ".py",
   "mimetype": "text/x-python",
   "name": "python",
   "nbconvert_exporter": "python",
   "pygments_lexer": "ipython3",
   "version": "3.8.8"
  }
 },
 "nbformat": 4,
 "nbformat_minor": 1
}
