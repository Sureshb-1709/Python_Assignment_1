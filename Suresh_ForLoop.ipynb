{
 "cells": [
  {
   "cell_type": "markdown",
   "metadata": {},
   "source": [
    "# 1. Write a program to Iterating string \"Python\" using for loop "
   ]
  },
  {
   "cell_type": "code",
   "execution_count": 1,
   "metadata": {},
   "outputs": [
    {
     "name": "stdout",
     "output_type": "stream",
     "text": [
      "P y t h o n   s t r i n g   i m p l e m e n t a t i o n \n",
      "\n"
     ]
    }
   ],
   "source": [
    "# Code #1\n",
    "string_name = \"Python string implementation\"\n",
    "  \n",
    "# Iterate over the string\n",
    "for element in string_name:\n",
    "    print(element, end=' ')\n",
    "print(\"\\n\")"
   ]
  },
  {
   "cell_type": "markdown",
   "metadata": {},
   "source": [
    "# 2. Write a program to print Table of a given number"
   ]
  },
  {
   "cell_type": "code",
   "execution_count": 2,
   "metadata": {},
   "outputs": [
    {
     "name": "stdout",
     "output_type": "stream",
     "text": [
      "56*1=56\n",
      "56*2=112\n",
      "56*3=168\n",
      "56*4=224\n",
      "56*5=280\n",
      "56*6=336\n",
      "56*7=392\n",
      "56*8=448\n",
      "56*9=504\n",
      "56*10=560\n"
     ]
    }
   ],
   "source": [
    "input1=56\n",
    "list1={1,2,3,4,5,6,7,8,9,10}\n",
    "for l in list1:\n",
    "  print(str(input1)+\"*\"+str(l)+\"=\"+str(l*input1))"
   ]
  },
  {
   "cell_type": "markdown",
   "metadata": {},
   "source": [
    "# 3. Program to print the sum of the given list."
   ]
  },
  {
   "cell_type": "code",
   "execution_count": 4,
   "metadata": {},
   "outputs": [
    {
     "name": "stdout",
     "output_type": "stream",
     "text": [
      "How many numbers: 5\n",
      "Enter number 10\n",
      "Enter number 20\n",
      "Enter number 30\n",
      "Enter number 40\n",
      "Enter number 50\n",
      "Sum of elements in given list is : 150\n"
     ]
    }
   ],
   "source": [
    "lst = []\n",
    "num = int(input('How many numbers: '))\n",
    "for n in range(num):\n",
    "    numbers = int(input('Enter number '))\n",
    "    lst.append(numbers)\n",
    "print(\"Sum of elements in given list is :\", sum(lst))"
   ]
  },
  {
   "cell_type": "markdown",
   "metadata": {},
   "source": [
    "# 4. Program to print the difference of given list"
   ]
  },
  {
   "cell_type": "code",
   "execution_count": 24,
   "metadata": {},
   "outputs": [
    {
     "name": "stdout",
     "output_type": "stream",
     "text": [
      "33\n",
      "-31\n",
      "34\n",
      "-30\n",
      "37\n",
      "61\n",
      "-54\n"
     ]
    }
   ],
   "source": [
    "a=[34,2,3,4,7,98,7]\n",
    "res=1\n",
    "for i in a:\n",
    "    res= i-res\n",
    "    print(res)\n"
   ]
  },
  {
   "cell_type": "markdown",
   "metadata": {},
   "source": [
    "# 5. Program to print even number using in range().   Eg (2,4,6,8 )"
   ]
  },
  {
   "cell_type": "code",
   "execution_count": 6,
   "metadata": {},
   "outputs": [
    {
     "name": "stdout",
     "output_type": "stream",
     "text": [
      "Enter the Starting number\n",
      "100\n",
      "Enter the Ending number\n",
      "260\n",
      "100 102 104 106 108 110 112 114 116 118 120 122 124 126 128 130 132 134 136 138 140 142 144 146 148 150 152 154 156 158 160 162 164 166 168 170 172 174 176 178 180 182 184 186 188 190 192 194 196 198 200 202 204 206 208 210 212 214 216 218 220 222 224 226 228 230 232 234 236 238 240 242 244 246 248 250 252 254 256 258 260 "
     ]
    }
   ],
   "source": [
    "print(\"Enter the Starting number\")\n",
    "start=int(input())\n",
    "print(\"Enter the Ending number\")\n",
    "end=int(input())\n",
    "  \n",
    "# iterating each number in list\n",
    "for num in range(start, end + 1):\n",
    "      \n",
    "    # checking condition\n",
    "    if num % 2 == 0:\n",
    "        print(num, end = \" \")"
   ]
  },
  {
   "cell_type": "markdown",
   "metadata": {},
   "source": [
    "# 6. Write a Program to print 1 to 10 using while loop"
   ]
  },
  {
   "cell_type": "code",
   "execution_count": 18,
   "metadata": {},
   "outputs": [
    {
     "name": "stdout",
     "output_type": "stream",
     "text": [
      "1\n",
      "2\n",
      "3\n",
      "4\n",
      "5\n",
      "6\n",
      "7\n",
      "8\n",
      "9\n",
      "10\n"
     ]
    }
   ],
   "source": [
    " i = 1\n",
    "while i < 11:\n",
    "  print(i)\n",
    "  i += 1\n",
    "   "
   ]
  },
  {
   "cell_type": "markdown",
   "metadata": {},
   "source": [
    "# 7. Write the program to iterate every element with Hello ! ? list = ['Peter','Joseph','Ricky','Devansh']"
   ]
  },
  {
   "cell_type": "code",
   "execution_count": 22,
   "metadata": {},
   "outputs": [
    {
     "name": "stdout",
     "output_type": "stream",
     "text": [
      "Not Exists\n",
      "Not Exists\n",
      "Not Exists\n",
      "Not Exists\n",
      "Present in the list\n"
     ]
    }
   ],
   "source": [
    "list = ['Peter','Joseph','Ricky','Devansh','Hello !']\n",
    "for i in list:\n",
    " if(i==\"Hello !\"):\n",
    "    print(\"Present in the list\")\n",
    " else:\n",
    "    print(\"Not Exists\")\n"
   ]
  },
  {
   "cell_type": "code",
   "execution_count": null,
   "metadata": {},
   "outputs": [],
   "source": []
  }
 ],
 "metadata": {
  "kernelspec": {
   "display_name": "Python 3",
   "language": "python",
   "name": "python3"
  },
  "language_info": {
   "codemirror_mode": {
    "name": "ipython",
    "version": 3
   },
   "file_extension": ".py",
   "mimetype": "text/x-python",
   "name": "python",
   "nbconvert_exporter": "python",
   "pygments_lexer": "ipython3",
   "version": "3.8.8"
  }
 },
 "nbformat": 4,
 "nbformat_minor": 4
}
